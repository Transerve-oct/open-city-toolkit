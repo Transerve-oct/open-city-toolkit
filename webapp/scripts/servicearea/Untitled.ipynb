{
 "cells": [
  {
   "cell_type": "code",
   "execution_count": 1,
   "metadata": {},
   "outputs": [],
   "source": [
    "from qgis.core import *\n",
    "from qgis.gui import *\n",
    "from qgis.analysis import *\n",
    " \n",
    "from qgis.PyQt.QtCore import *\n",
    "from qgis.PyQt.QtGui import *"
   ]
  },
  {
   "cell_type": "code",
   "execution_count": 2,
   "metadata": {},
   "outputs": [],
   "source": [
    "from qgis.utils import iface"
   ]
  },
  {
   "cell_type": "code",
   "execution_count": null,
   "metadata": {},
   "outputs": [],
   "source": []
  },
  {
   "cell_type": "code",
   "execution_count": 3,
   "metadata": {},
   "outputs": [],
   "source": [
    "import sys\n",
    "\n",
    "from qgis.core import (\n",
    "     QgsApplication, \n",
    "     QgsProcessingFeedback, \n",
    "     QgsVectorLayer\n",
    ")\n",
    "\n",
    "# See https://gis.stackexchange.com/a/155852/4972 for details about the prefix \n",
    "QgsApplication.setPrefixPath('/usr', True)\n",
    "qgs = QgsApplication([], False)\n",
    "qgs.initQgis()\n",
    "\n",
    "# Append the path where processing plugin can be found\n",
    "sys.path.append('/usr/share/qgis/python/plugins')\n",
    "\n",
    "import processing\n",
    "from processing.core.Processing import Processing"
   ]
  },
  {
   "cell_type": "code",
   "execution_count": 4,
   "metadata": {},
   "outputs": [],
   "source": [
    "Processing.initialize()"
   ]
  },
  {
   "cell_type": "code",
   "execution_count": 5,
   "metadata": {},
   "outputs": [
    {
     "name": "stderr",
     "output_type": "stream",
     "text": [
      "Logged warning: Duplicate provider native registered\n"
     ]
    },
    {
     "data": {
      "text/plain": [
       "False"
      ]
     },
     "execution_count": 5,
     "metadata": {},
     "output_type": "execute_result"
    }
   ],
   "source": [
    "from qgis._analysis import QgsNativeAlgorithms\n",
    "QgsApplication.processingRegistry().addProvider(QgsNativeAlgorithms())"
   ]
  },
  {
   "cell_type": "code",
   "execution_count": null,
   "metadata": {},
   "outputs": [],
   "source": []
  },
  {
   "cell_type": "code",
   "execution_count": 6,
   "metadata": {},
   "outputs": [],
   "source": [
    "params = { 'DEFAULT_DIRECTION' : 2, 'DEFAULT_SPEED' : 50, 'DIRECTION_FIELD' : '', 'INCLUDE_BOUNDS' : False,\n",
    "         'INPUT' : '/home/warr/Downloads/servicearea/Link Road.shp',\n",
    "         'OUTPUT_LINES' : '/home/warr/Downloads/servicearea/Data/Service_Area_1m.shp', 'SPEED_FIELD' : '',\n",
    "         'START_POINTS' : '/home/warr/Downloads/servicearea/Data/Bank Locations.shp', 'STRATEGY' : 0,\n",
    "         'TOLERANCE' : 0, 'TRAVEL_COST2' : 100, 'VALUE_BACKWARD' : '', 'VALUE_BOTH' : '', 'VALUE_FORWARD' : '' }"
   ]
  },
  {
   "cell_type": "code",
   "execution_count": 7,
   "metadata": {},
   "outputs": [
    {
     "name": "stderr",
     "output_type": "stream",
     "text": [
      "Warning 1: Field type of width 255 truncated to 254.\n",
      "Warning 1: Field start of width 255 truncated to 254.\n",
      "Warning 1: Value 1490140800000 of field timestamp of feature 0 not successfully written. Possibly due to too larger number with respect to field width\n",
      "Warning 1: Value -2209161600000 of field timestamp of feature 1 not successfully written. Possibly due to too larger number with respect to field width\n",
      "Warning 1: Value -2209161600000 of field timestamp of feature 2 not successfully written. Possibly due to too larger number with respect to field width\n",
      "Warning 1: Value -2209161600000 of field timestamp of feature 3 not successfully written. Possibly due to too larger number with respect to field width\n",
      "Warning 1: Value 1490140800000 of field timestamp of feature 4 not successfully written. Possibly due to too larger number with respect to field width\n",
      "Warning 1: Value 1490140800000 of field timestamp of feature 5 not successfully written. Possibly due to too larger number with respect to field width\n",
      "Warning 1: Value 1490140800000 of field timestamp of feature 6 not successfully written. Possibly due to too larger number with respect to field width\n",
      "Warning 1: Value 1569888000000 of field timestamp of feature 7 not successfully written. Possibly due to too larger number with respect to field width\n",
      "Warning 1: Value -2209161600000 of field timestamp of feature 8 not successfully written. Possibly due to too larger number with respect to field width\n",
      "Warning 1: Value -2209161600000 of field timestamp of feature 9 not successfully written. Possibly due to too larger number with respect to field width\n",
      "Warning 1: Value 1491350400000 of field timestamp of feature 10 not successfully written. Possibly due to too larger number with respect to field width\n",
      "Warning 1: Value -2209161600000 of field timestamp of feature 11 not successfully written. Possibly due to too larger number with respect to field width\n",
      "Warning 1: Value 1490572800000 of field timestamp of feature 12 not successfully written. Possibly due to too larger number with respect to field width\n",
      "Warning 1: Value -2209161600000 of field timestamp of feature 13 not successfully written. Possibly due to too larger number with respect to field width\n",
      "Warning 1: Value 1490572800000 of field timestamp of feature 14 not successfully written. Possibly due to too larger number with respect to field width\n",
      "Warning 1: Value 1490572800000 of field timestamp of feature 15 not successfully written. Possibly due to too larger number with respect to field width\n",
      "Warning 1: Value 1490227200000.00024 of field timestamp of feature 16 not successfully written. Possibly due to too larger number with respect to field width\n",
      "Warning 1: Value -2209161600000 of field timestamp of feature 17 not successfully written. Possibly due to too larger number with respect to field width\n",
      "Warning 1: Value 1496707200000 of field timestamp of feature 18 not successfully written. Possibly due to too larger number with respect to field width\n",
      "Warning 1: Value -2209161600000 of field timestamp of feature 19 not successfully written. Possibly due to too larger number with respect to field width\n",
      "Warning 1: Value 1555459200000 of field timestamp of feature 20 not successfully written. Possibly due to too larger number with respect to field width\n",
      "Warning 1: Value -2209161600000 of field timestamp of feature 21 not successfully written. Possibly due to too larger number with respect to field width\n",
      "Warning 1: Value -2209161600000 of field timestamp of feature 22 not successfully written. Possibly due to too larger number with respect to field width\n",
      "Warning 1: Value 1576627200000.00024 of field timestamp of feature 23 not successfully written. Possibly due to too larger number with respect to field width\n",
      "Warning 1: Value 1490227200000.00024 of field timestamp of feature 24 not successfully written. Possibly due to too larger number with respect to field width\n",
      "Warning 1: Value -2209161600000 of field timestamp of feature 25 not successfully written. Possibly due to too larger number with respect to field width\n",
      "Warning 1: Value -2209161600000 of field timestamp of feature 26 not successfully written. Possibly due to too larger number with respect to field width\n",
      "Warning 1: Value -2209161600000 of field timestamp of feature 27 not successfully written. Possibly due to too larger number with respect to field width\n",
      "Warning 1: Value -2209161600000 of field timestamp of feature 28 not successfully written. Possibly due to too larger number with respect to field width\n",
      "Warning 1: Value 1575504000000 of field timestamp of feature 29 not successfully written. Possibly due to too larger number with respect to field width\n",
      "Warning 1: Value -2209161600000 of field timestamp of feature 30 not successfully written. Possibly due to too larger number with respect to field width\n",
      "Warning 1: Value 1501804800000.00024 of field timestamp of feature 31 not successfully written. Possibly due to too larger number with respect to field width\n",
      "Warning 1: Value 1490659200000 of field timestamp of feature 32 not successfully written. Possibly due to too larger number with respect to field width\n",
      "Warning 1: Value -2209161600000 of field timestamp of feature 33 not successfully written. Possibly due to too larger number with respect to field width\n",
      "Warning 1: Value 1490659200000 of field timestamp of feature 34 not successfully written. Possibly due to too larger number with respect to field width\n",
      "Warning 1: Value -2209161600000 of field timestamp of feature 35 not successfully written. Possibly due to too larger number with respect to field width\n",
      "Warning 1: Value 1501718400000 of field timestamp of feature 36 not successfully written. Possibly due to too larger number with respect to field width\n",
      "Warning 1: Value 1491177599999.99976 of field timestamp of feature 37 not successfully written. Possibly due to too larger number with respect to field width\n",
      "Warning 1: Value 1590578093000 of field timestamp of feature 38 not successfully written. Possibly due to too larger number with respect to field width\n",
      "Warning 1: Value 1490054400000 of field timestamp of feature 39 not successfully written. Possibly due to too larger number with respect to field width\n",
      "Warning 1: Value -2209161600000 of field timestamp of feature 40 not successfully written. Possibly due to too larger number with respect to field width\n",
      "Warning 1: Value 1490054400000 of field timestamp of feature 41 not successfully written. Possibly due to too larger number with respect to field width\n",
      "Warning 1: Value -2209161600000 of field timestamp of feature 42 not successfully written. Possibly due to too larger number with respect to field width\n",
      "Warning 1: Value -2209161600000 of field timestamp of feature 43 not successfully written. Possibly due to too larger number with respect to field width\n",
      "Warning 1: Value 1490054400000 of field timestamp of feature 44 not successfully written. Possibly due to too larger number with respect to field width\n",
      "Warning 1: Value -2209161600000 of field timestamp of feature 45 not successfully written. Possibly due to too larger number with respect to field width\n",
      "Warning 1: Value -2209161600000 of field timestamp of feature 46 not successfully written. Possibly due to too larger number with respect to field width\n",
      "Warning 1: Value -2209161600000 of field timestamp of feature 47 not successfully written. Possibly due to too larger number with respect to field width\n",
      "Warning 1: Value 1576627200000.00024 of field timestamp of feature 48 not successfully written. Possibly due to too larger number with respect to field width\n",
      "Warning 1: Value 1490054400000 of field timestamp of feature 49 not successfully written. Possibly due to too larger number with respect to field width\n",
      "Warning 1: Value -2209161600000 of field timestamp of feature 50 not successfully written. Possibly due to too larger number with respect to field width\n",
      "Warning 1: Value 1490054400000 of field timestamp of feature 51 not successfully written. Possibly due to too larger number with respect to field width\n",
      "Warning 1: Value -2209161600000 of field timestamp of feature 52 not successfully written. Possibly due to too larger number with respect to field width\n",
      "Warning 1: Value 1490054400000 of field timestamp of feature 53 not successfully written. Possibly due to too larger number with respect to field width\n",
      "Warning 1: Value 1490054400000 of field timestamp of feature 54 not successfully written. Possibly due to too larger number with respect to field width\n",
      "Warning 1: Value -2209161600000 of field timestamp of feature 55 not successfully written. Possibly due to too larger number with respect to field width\n",
      "Warning 1: Value 1590748262000 of field timestamp of feature 56 not successfully written. Possibly due to too larger number with respect to field width\n",
      "Warning 1: Value -2209161600000 of field timestamp of feature 57 not successfully written. Possibly due to too larger number with respect to field width\n",
      "Warning 1: Value 1575590400000 of field timestamp of feature 58 not successfully written. Possibly due to too larger number with respect to field width\n",
      "Warning 1: Value -2209161600000 of field timestamp of feature 59 not successfully written. Possibly due to too larger number with respect to field width\n",
      "Warning 1: Value 1555459200000 of field timestamp of feature 60 not successfully written. Possibly due to too larger number with respect to field width\n",
      "Warning 1: Value -2209161600000 of field timestamp of feature 61 not successfully written. Possibly due to too larger number with respect to field width\n",
      "Warning 1: Value -2209161600000 of field timestamp of feature 62 not successfully written. Possibly due to too larger number with respect to field width\n",
      "Warning 1: Value -2209161600000 of field timestamp of feature 63 not successfully written. Possibly due to too larger number with respect to field width\n"
     ]
    },
    {
     "name": "stderr",
     "output_type": "stream",
     "text": [
      "Warning 1: Value 1490140800000 of field timestamp of feature 64 not successfully written. Possibly due to too larger number with respect to field width\n",
      "Warning 1: Value 1564185600000 of field timestamp of feature 65 not successfully written. Possibly due to too larger number with respect to field width\n",
      "Warning 1: Value -2209161600000 of field timestamp of feature 66 not successfully written. Possibly due to too larger number with respect to field width\n",
      "Warning 1: Value 1555459200000 of field timestamp of feature 67 not successfully written. Possibly due to too larger number with respect to field width\n",
      "Warning 1: Value -2209161600000 of field timestamp of feature 68 not successfully written. Possibly due to too larger number with respect to field width\n",
      "Warning 1: Value -2209161600000 of field timestamp of feature 69 not successfully written. Possibly due to too larger number with respect to field width\n",
      "Warning 1: Value 1557273600000 of field timestamp of feature 70 not successfully written. Possibly due to too larger number with respect to field width\n",
      "Warning 1: Value 1490140800000 of field timestamp of feature 71 not successfully written. Possibly due to too larger number with respect to field width\n",
      "Warning 1: Value 1499990400000 of field timestamp of feature 72 not successfully written. Possibly due to too larger number with respect to field width\n",
      "Warning 1: Value 1493942400000 of field timestamp of feature 73 not successfully written. Possibly due to too larger number with respect to field width\n",
      "Warning 1: Value 1490054400000 of field timestamp of feature 74 not successfully written. Possibly due to too larger number with respect to field width\n",
      "Warning 1: Value -2209161600000 of field timestamp of feature 75 not successfully written. Possibly due to too larger number with respect to field width\n",
      "Warning 1: Value -2209161600000 of field timestamp of feature 76 not successfully written. Possibly due to too larger number with respect to field width\n",
      "Warning 1: Value 1490140800000 of field timestamp of feature 77 not successfully written. Possibly due to too larger number with respect to field width\n",
      "Warning 1: Value -2209161600000 of field timestamp of feature 78 not successfully written. Possibly due to too larger number with respect to field width\n",
      "Warning 1: Value 1490140800000 of field timestamp of feature 79 not successfully written. Possibly due to too larger number with respect to field width\n",
      "Warning 1: Value 1575331200000 of field timestamp of feature 80 not successfully written. Possibly due to too larger number with respect to field width\n",
      "Warning 1: Value -2209161600000 of field timestamp of feature 81 not successfully written. Possibly due to too larger number with respect to field width\n",
      "Warning 1: Value 1490227200000.00024 of field timestamp of feature 82 not successfully written. Possibly due to too larger number with respect to field width\n",
      "Warning 1: Value 1575849600000 of field timestamp of feature 83 not successfully written. Possibly due to too larger number with respect to field width\n",
      "Warning 1: Value 1490227200000.00024 of field timestamp of feature 84 not successfully written. Possibly due to too larger number with respect to field width\n",
      "Warning 1: Value 1490227200000.00024 of field timestamp of feature 85 not successfully written. Possibly due to too larger number with respect to field width\n",
      "Warning 1: Value -2209161600000 of field timestamp of feature 86 not successfully written. Possibly due to too larger number with respect to field width\n",
      "Warning 1: Value 1490227200000.00024 of field timestamp of feature 87 not successfully written. Possibly due to too larger number with respect to field width\n",
      "Warning 1: Value 1491177599999.99976 of field timestamp of feature 88 not successfully written. Possibly due to too larger number with respect to field width\n",
      "Warning 1: Value -2209161600000 of field timestamp of feature 89 not successfully written. Possibly due to too larger number with respect to field width\n",
      "Warning 1: Value 1490227200000.00024 of field timestamp of feature 90 not successfully written. Possibly due to too larger number with respect to field width\n",
      "Warning 1: Value 1490227200000.00024 of field timestamp of feature 91 not successfully written. Possibly due to too larger number with respect to field width\n",
      "Warning 1: Value -2209161600000 of field timestamp of feature 92 not successfully written. Possibly due to too larger number with respect to field width\n",
      "Warning 1: Value -2209161600000 of field timestamp of feature 93 not successfully written. Possibly due to too larger number with respect to field width\n",
      "Warning 1: Value -2209161600000 of field timestamp of feature 94 not successfully written. Possibly due to too larger number with respect to field width\n",
      "Warning 1: Value -2209161600000 of field timestamp of feature 95 not successfully written. Possibly due to too larger number with respect to field width\n",
      "Warning 1: Value -2209161600000 of field timestamp of feature 96 not successfully written. Possibly due to too larger number with respect to field width\n",
      "Warning 1: Value 1555459200000 of field timestamp of feature 97 not successfully written. Possibly due to too larger number with respect to field width\n",
      "Warning 1: Value -2209161600000 of field timestamp of feature 98 not successfully written. Possibly due to too larger number with respect to field width\n",
      "Warning 1: Value 1490227200000.00024 of field timestamp of feature 99 not successfully written. Possibly due to too larger number with respect to field width\n",
      "Warning 1: Value -2209161600000 of field timestamp of feature 100 not successfully written. Possibly due to too larger number with respect to field width\n",
      "Warning 1: Value 1490227200000.00024 of field timestamp of feature 101 not successfully written. Possibly due to too larger number with respect to field width\n",
      "Warning 1: Value -2209161600000 of field timestamp of feature 102 not successfully written. Possibly due to too larger number with respect to field width\n",
      "Warning 1: Value -2209161600000 of field timestamp of feature 103 not successfully written. Possibly due to too larger number with respect to field width\n",
      "Warning 1: Value 1555459200000 of field timestamp of feature 104 not successfully written. Possibly due to too larger number with respect to field width\n",
      "Warning 1: Value 1490227200000.00024 of field timestamp of feature 105 not successfully written. Possibly due to too larger number with respect to field width\n",
      "Warning 1: Value 1569888000000 of field timestamp of feature 106 not successfully written. Possibly due to too larger number with respect to field width\n",
      "Warning 1: Value 1490227200000.00024 of field timestamp of feature 107 not successfully written. Possibly due to too larger number with respect to field width\n",
      "Warning 1: Value 1490140800000 of field timestamp of feature 108 not successfully written. Possibly due to too larger number with respect to field width\n",
      "Warning 1: Value 1555459200000 of field timestamp of feature 109 not successfully written. Possibly due to too larger number with respect to field width\n",
      "Warning 1: Value -2209161600000 of field timestamp of feature 110 not successfully written. Possibly due to too larger number with respect to field width\n",
      "Warning 1: Value -2209161600000 of field timestamp of feature 111 not successfully written. Possibly due to too larger number with respect to field width\n",
      "Warning 1: Value -2209161600000 of field timestamp of feature 112 not successfully written. Possibly due to too larger number with respect to field width\n",
      "Warning 1: Value -2209161600000 of field timestamp of feature 113 not successfully written. Possibly due to too larger number with respect to field width\n",
      "Warning 1: Value 1569888000000 of field timestamp of feature 114 not successfully written. Possibly due to too larger number with respect to field width\n",
      "Warning 1: Value 1501804800000.00024 of field timestamp of feature 115 not successfully written. Possibly due to too larger number with respect to field width\n",
      "Warning 1: Value -2209161600000 of field timestamp of feature 116 not successfully written. Possibly due to too larger number with respect to field width\n",
      "Warning 1: Value -2209161600000 of field timestamp of feature 117 not successfully written. Possibly due to too larger number with respect to field width\n",
      "Warning 1: Value -2209161600000 of field timestamp of feature 118 not successfully written. Possibly due to too larger number with respect to field width\n",
      "Warning 1: Value -2209161600000 of field timestamp of feature 119 not successfully written. Possibly due to too larger number with respect to field width\n",
      "Warning 1: Value 1490140800000 of field timestamp of feature 120 not successfully written. Possibly due to too larger number with respect to field width\n",
      "Warning 1: Value 1490659200000 of field timestamp of feature 121 not successfully written. Possibly due to too larger number with respect to field width\n",
      "Warning 1: Value -2209161600000 of field timestamp of feature 122 not successfully written. Possibly due to too larger number with respect to field width\n",
      "Warning 1: Value -2209161600000 of field timestamp of feature 123 not successfully written. Possibly due to too larger number with respect to field width\n",
      "Warning 1: Value -2209161600000 of field timestamp of feature 124 not successfully written. Possibly due to too larger number with respect to field width\n",
      "Warning 1: Value -2209161600000 of field timestamp of feature 125 not successfully written. Possibly due to too larger number with respect to field width\n",
      "Warning 1: Value 1551484800000 of field timestamp of feature 126 not successfully written. Possibly due to too larger number with respect to field width\n",
      "Warning 1: Value 1575936000000 of field timestamp of feature 127 not successfully written. Possibly due to too larger number with respect to field width\n",
      "Warning 1: Value -2209161600000 of field timestamp of feature 128 not successfully written. Possibly due to too larger number with respect to field width\n",
      "Warning 1: Value -2209161600000 of field timestamp of feature 129 not successfully written. Possibly due to too larger number with respect to field width\n",
      "Warning 1: Value 1490140800000 of field timestamp of feature 130 not successfully written. Possibly due to too larger number with respect to field width\n"
     ]
    },
    {
     "name": "stderr",
     "output_type": "stream",
     "text": [
      "Warning 1: Value 1575590400000 of field timestamp of feature 131 not successfully written. Possibly due to too larger number with respect to field width\n",
      "Warning 1: Value 1493942400000 of field timestamp of feature 132 not successfully written. Possibly due to too larger number with respect to field width\n",
      "Warning 1: Value -2209161600000 of field timestamp of feature 133 not successfully written. Possibly due to too larger number with respect to field width\n",
      "Warning 1: Value 1568764800000 of field timestamp of feature 134 not successfully written. Possibly due to too larger number with respect to field width\n",
      "Warning 1: Value 1568764800000 of field timestamp of feature 135 not successfully written. Possibly due to too larger number with respect to field width\n",
      "Warning 1: Value -2209161600000 of field timestamp of feature 136 not successfully written. Possibly due to too larger number with respect to field width\n",
      "Warning 1: Value -2209161600000 of field timestamp of feature 137 not successfully written. Possibly due to too larger number with respect to field width\n",
      "Warning 1: Value -2209161600000 of field timestamp of feature 138 not successfully written. Possibly due to too larger number with respect to field width\n",
      "Warning 1: Value -2209161600000 of field timestamp of feature 139 not successfully written. Possibly due to too larger number with respect to field width\n",
      "Warning 1: Value -2209161600000 of field timestamp of feature 140 not successfully written. Possibly due to too larger number with respect to field width\n",
      "Warning 1: Value -2209161600000 of field timestamp of feature 141 not successfully written. Possibly due to too larger number with respect to field width\n",
      "Warning 1: Value -2209161600000 of field timestamp of feature 142 not successfully written. Possibly due to too larger number with respect to field width\n",
      "Warning 1: Value 1490140800000 of field timestamp of feature 143 not successfully written. Possibly due to too larger number with respect to field width\n",
      "Warning 1: Value 1576195200000 of field timestamp of feature 144 not successfully written. Possibly due to too larger number with respect to field width\n",
      "Warning 1: Value 1490572800000 of field timestamp of feature 145 not successfully written. Possibly due to too larger number with respect to field width\n",
      "Warning 1: Value 1575244800000 of field timestamp of feature 146 not successfully written. Possibly due to too larger number with respect to field width\n",
      "Warning 1: Value 1490227200000.00024 of field timestamp of feature 147 not successfully written. Possibly due to too larger number with respect to field width\n",
      "Warning 1: Value 1490227200000.00024 of field timestamp of feature 148 not successfully written. Possibly due to too larger number with respect to field width\n",
      "Warning 1: Value -2209161600000 of field timestamp of feature 149 not successfully written. Possibly due to too larger number with respect to field width\n",
      "Warning 1: Value 1490227200000.00024 of field timestamp of feature 150 not successfully written. Possibly due to too larger number with respect to field width\n",
      "Warning 1: Value 1490227200000.00024 of field timestamp of feature 151 not successfully written. Possibly due to too larger number with respect to field width\n",
      "Warning 1: Value 1496102400000 of field timestamp of feature 152 not successfully written. Possibly due to too larger number with respect to field width\n",
      "Warning 1: Value 1491868800000 of field timestamp of feature 153 not successfully written. Possibly due to too larger number with respect to field width\n",
      "Warning 1: Value -2209161600000 of field timestamp of feature 154 not successfully written. Possibly due to too larger number with respect to field width\n",
      "Warning 1: Value -2209161600000 of field timestamp of feature 155 not successfully written. Possibly due to too larger number with respect to field width\n",
      "Warning 1: Value -2209161600000 of field timestamp of feature 156 not successfully written. Possibly due to too larger number with respect to field width\n",
      "Warning 1: Value -2209161600000 of field timestamp of feature 157 not successfully written. Possibly due to too larger number with respect to field width\n",
      "Warning 1: Value -2209161600000 of field timestamp of feature 158 not successfully written. Possibly due to too larger number with respect to field width\n",
      "Warning 1: Value 1490140800000 of field timestamp of feature 159 not successfully written. Possibly due to too larger number with respect to field width\n",
      "Warning 1: Value 1490140800000 of field timestamp of feature 160 not successfully written. Possibly due to too larger number with respect to field width\n",
      "Warning 1: Value 1490140800000 of field timestamp of feature 161 not successfully written. Possibly due to too larger number with respect to field width\n",
      "Warning 1: Value 1575936000000 of field timestamp of feature 162 not successfully written. Possibly due to too larger number with respect to field width\n",
      "Warning 1: Value 1575849600000 of field timestamp of feature 163 not successfully written. Possibly due to too larger number with respect to field width\n",
      "Warning 1: Value 1490227200000.00024 of field timestamp of feature 164 not successfully written. Possibly due to too larger number with respect to field width\n",
      "Warning 1: Value 1569888000000 of field timestamp of feature 165 not successfully written. Possibly due to too larger number with respect to field width\n",
      "Warning 1: Value 1501804800000.00024 of field timestamp of feature 166 not successfully written. Possibly due to too larger number with respect to field width\n",
      "Warning 1: Value 1501804800000.00024 of field timestamp of feature 167 not successfully written. Possibly due to too larger number with respect to field width\n",
      "Warning 1: Value -2209161600000 of field timestamp of feature 168 not successfully written. Possibly due to too larger number with respect to field width\n",
      "Warning 1: Value -2209161600000 of field timestamp of feature 169 not successfully written. Possibly due to too larger number with respect to field width\n",
      "Warning 1: Value -2209161600000 of field timestamp of feature 170 not successfully written. Possibly due to too larger number with respect to field width\n",
      "Warning 1: Value 1576627200000.00024 of field timestamp of feature 171 not successfully written. Possibly due to too larger number with respect to field width\n",
      "Warning 1: Value -2209161600000 of field timestamp of feature 172 not successfully written. Possibly due to too larger number with respect to field width\n",
      "Warning 1: Value -2209161600000 of field timestamp of feature 173 not successfully written. Possibly due to too larger number with respect to field width\n",
      "Warning 1: Value -2209161600000 of field timestamp of feature 174 not successfully written. Possibly due to too larger number with respect to field width\n",
      "Warning 1: Value -2209161600000 of field timestamp of feature 175 not successfully written. Possibly due to too larger number with respect to field width\n",
      "Warning 1: Value 1490227200000.00024 of field timestamp of feature 176 not successfully written. Possibly due to too larger number with respect to field width\n",
      "Warning 1: Value 1564185600000 of field timestamp of feature 177 not successfully written. Possibly due to too larger number with respect to field width\n",
      "Warning 1: Value 1496102400000 of field timestamp of feature 178 not successfully written. Possibly due to too larger number with respect to field width\n",
      "Warning 1: Value -2209161600000 of field timestamp of feature 179 not successfully written. Possibly due to too larger number with respect to field width\n",
      "Warning 1: Value -2209161600000 of field timestamp of feature 180 not successfully written. Possibly due to too larger number with respect to field width\n",
      "Warning 1: Value -2209161600000 of field timestamp of feature 181 not successfully written. Possibly due to too larger number with respect to field width\n",
      "Warning 1: Value -2209161600000 of field timestamp of feature 182 not successfully written. Possibly due to too larger number with respect to field width\n",
      "Warning 1: Value -2209161600000 of field timestamp of feature 183 not successfully written. Possibly due to too larger number with respect to field width\n",
      "Warning 1: Value -2209161600000 of field timestamp of feature 184 not successfully written. Possibly due to too larger number with respect to field width\n",
      "Warning 1: Value 1564185600000 of field timestamp of feature 185 not successfully written. Possibly due to too larger number with respect to field width\n",
      "Warning 1: Value -2209161600000 of field timestamp of feature 186 not successfully written. Possibly due to too larger number with respect to field width\n",
      "Warning 1: Value -2209161600000 of field timestamp of feature 187 not successfully written. Possibly due to too larger number with respect to field width\n",
      "Warning 1: Value -2209161600000 of field timestamp of feature 188 not successfully written. Possibly due to too larger number with respect to field width\n",
      "Warning 1: Value -2209161600000 of field timestamp of feature 189 not successfully written. Possibly due to too larger number with respect to field width\n",
      "Warning 1: Value 1501632000000 of field timestamp of feature 190 not successfully written. Possibly due to too larger number with respect to field width\n",
      "Warning 1: Value -2209161600000 of field timestamp of feature 191 not successfully written. Possibly due to too larger number with respect to field width\n",
      "Warning 1: Value 1493251200000 of field timestamp of feature 192 not successfully written. Possibly due to too larger number with respect to field width\n",
      "Warning 1: Value -2209161600000 of field timestamp of feature 193 not successfully written. Possibly due to too larger number with respect to field width\n",
      "Warning 1: Value 1490054400000 of field timestamp of feature 194 not successfully written. Possibly due to too larger number with respect to field width\n",
      "Warning 1: Value -2209161600000 of field timestamp of feature 195 not successfully written. Possibly due to too larger number with respect to field width\n",
      "Warning 1: Value -2209161600000 of field timestamp of feature 196 not successfully written. Possibly due to too larger number with respect to field width\n",
      "Warning 1: Value -2209161600000 of field timestamp of feature 197 not successfully written. Possibly due to too larger number with respect to field width\n",
      "Warning 1: Value 1493251200000 of field timestamp of feature 198 not successfully written. Possibly due to too larger number with respect to field width\n",
      "Warning 1: Value 1490054400000 of field timestamp of feature 199 not successfully written. Possibly due to too larger number with respect to field width\n",
      "Warning 1: Value 1490054400000 of field timestamp of feature 200 not successfully written. Possibly due to too larger number with respect to field width\n",
      "Warning 1: Value 1492387200000 of field timestamp of feature 201 not successfully written. Possibly due to too larger number with respect to field width\n",
      "Warning 1: Value 1490054400000 of field timestamp of feature 202 not successfully written. Possibly due to too larger number with respect to field width\n",
      "Warning 1: Value -2209161600000 of field timestamp of feature 203 not successfully written. Possibly due to too larger number with respect to field width\n",
      "Warning 1: Value 1491177599999.99976 of field timestamp of feature 204 not successfully written. Possibly due to too larger number with respect to field width\n",
      "Warning 1: Value -2209161600000 of field timestamp of feature 205 not successfully written. Possibly due to too larger number with respect to field width\n",
      "Warning 1: Value -2209161600000 of field timestamp of feature 206 not successfully written. Possibly due to too larger number with respect to field width\n",
      "Warning 1: Value 1490659200000 of field timestamp of feature 207 not successfully written. Possibly due to too larger number with respect to field width\n",
      "Warning 1: Value -2209161600000 of field timestamp of feature 208 not successfully written. Possibly due to too larger number with respect to field width\n",
      "Warning 1: Value 1575590400000 of field timestamp of feature 209 not successfully written. Possibly due to too larger number with respect to field width\n",
      "Warning 1: Value 1496102400000 of field timestamp of feature 210 not successfully written. Possibly due to too larger number with respect to field width\n",
      "Warning 1: Value 1490054400000 of field timestamp of feature 211 not successfully written. Possibly due to too larger number with respect to field width\n",
      "Warning 1: Value 1490659200000 of field timestamp of feature 212 not successfully written. Possibly due to too larger number with respect to field width\n",
      "Warning 1: Value 1490659200000 of field timestamp of feature 213 not successfully written. Possibly due to too larger number with respect to field width\n",
      "Warning 1: Value 1490659200000 of field timestamp of feature 214 not successfully written. Possibly due to too larger number with respect to field width\n",
      "Warning 1: Value 1491264000000 of field timestamp of feature 215 not successfully written. Possibly due to too larger number with respect to field width\n",
      "Warning 1: Value 1490659200000 of field timestamp of feature 216 not successfully written. Possibly due to too larger number with respect to field width\n",
      "Warning 1: Value -2209161600000 of field timestamp of feature 217 not successfully written. Possibly due to too larger number with respect to field width\n",
      "Warning 1: Value -2209161600000 of field timestamp of feature 218 not successfully written. Possibly due to too larger number with respect to field width\n",
      "Warning 1: Value -2209161600000 of field timestamp of feature 219 not successfully written. Possibly due to too larger number with respect to field width\n",
      "Warning 1: Value -2209161600000 of field timestamp of feature 220 not successfully written. Possibly due to too larger number with respect to field width\n",
      "Warning 1: Value -2209161600000 of field timestamp of feature 221 not successfully written. Possibly due to too larger number with respect to field width\n",
      "Warning 1: Value 1492473600000 of field timestamp of feature 222 not successfully written. Possibly due to too larger number with respect to field width\n",
      "Warning 1: Value -2209161600000 of field timestamp of feature 223 not successfully written. Possibly due to too larger number with respect to field width\n",
      "Warning 1: Value 1490227200000.00024 of field timestamp of feature 224 not successfully written. Possibly due to too larger number with respect to field width\n",
      "Warning 1: Value 1492473600000 of field timestamp of feature 225 not successfully written. Possibly due to too larger number with respect to field width\n",
      "Warning 1: Value 1491868800000 of field timestamp of feature 226 not successfully written. Possibly due to too larger number with respect to field width\n",
      "Warning 1: Value 1570752000000 of field timestamp of feature 227 not successfully written. Possibly due to too larger number with respect to field width\n",
      "Warning 1: Value -2209161600000 of field timestamp of feature 228 not successfully written. Possibly due to too larger number with respect to field width\n",
      "Warning 1: Value 1491868800000 of field timestamp of feature 229 not successfully written. Possibly due to too larger number with respect to field width\n",
      "Warning 1: Value -2209161600000 of field timestamp of feature 230 not successfully written. Possibly due to too larger number with respect to field width\n",
      "Warning 1: Value 1593510544000 of field timestamp of feature 231 not successfully written. Possibly due to too larger number with respect to field width\n",
      "Warning 1: Value 1490140800000 of field timestamp of feature 232 not successfully written. Possibly due to too larger number with respect to field width\n",
      "Warning 1: Value -2209161600000 of field timestamp of feature 233 not successfully written. Possibly due to too larger number with respect to field width\n",
      "Warning 1: Value -2209161600000 of field timestamp of feature 234 not successfully written. Possibly due to too larger number with respect to field width\n",
      "Warning 1: Value 1490659200000 of field timestamp of feature 235 not successfully written. Possibly due to too larger number with respect to field width\n",
      "Warning 1: Value -2209161600000 of field timestamp of feature 236 not successfully written. Possibly due to too larger number with respect to field width\n",
      "Warning 1: Value 1575849600000 of field timestamp of feature 237 not successfully written. Possibly due to too larger number with respect to field width\n"
     ]
    },
    {
     "name": "stderr",
     "output_type": "stream",
     "text": [
      "Warning 1: Value -2209161600000 of field timestamp of feature 238 not successfully written. Possibly due to too larger number with respect to field width\n",
      "Warning 1: Value -2209161600000 of field timestamp of feature 239 not successfully written. Possibly due to too larger number with respect to field width\n",
      "Warning 1: Value 1490140800000 of field timestamp of feature 240 not successfully written. Possibly due to too larger number with respect to field width\n",
      "Warning 1: Value -2209161600000 of field timestamp of feature 241 not successfully written. Possibly due to too larger number with respect to field width\n",
      "Warning 1: Value 1490659200000 of field timestamp of feature 242 not successfully written. Possibly due to too larger number with respect to field width\n",
      "Warning 1: Value -2209161600000 of field timestamp of feature 243 not successfully written. Possibly due to too larger number with respect to field width\n",
      "Warning 1: Value 1490140800000 of field timestamp of feature 244 not successfully written. Possibly due to too larger number with respect to field width\n",
      "Warning 1: Value 1501804800000.00024 of field timestamp of feature 245 not successfully written. Possibly due to too larger number with respect to field width\n",
      "Warning 1: Value -2209161600000 of field timestamp of feature 246 not successfully written. Possibly due to too larger number with respect to field width\n",
      "Warning 1: Value 1490140800000 of field timestamp of feature 247 not successfully written. Possibly due to too larger number with respect to field width\n",
      "Warning 1: Value 1490140800000 of field timestamp of feature 248 not successfully written. Possibly due to too larger number with respect to field width\n",
      "Warning 1: Value 1570752000000 of field timestamp of feature 249 not successfully written. Possibly due to too larger number with respect to field width\n",
      "Warning 1: Value 1490054400000 of field timestamp of feature 250 not successfully written. Possibly due to too larger number with respect to field width\n",
      "Warning 1: Value -2209161600000 of field timestamp of feature 251 not successfully written. Possibly due to too larger number with respect to field width\n",
      "Warning 1: Value -2209161600000 of field timestamp of feature 252 not successfully written. Possibly due to too larger number with respect to field width\n",
      "Warning 1: Value -2209161600000 of field timestamp of feature 253 not successfully written. Possibly due to too larger number with respect to field width\n",
      "Warning 1: Value -2209161600000 of field timestamp of feature 254 not successfully written. Possibly due to too larger number with respect to field width\n",
      "Warning 1: Value 1557360000000 of field timestamp of feature 255 not successfully written. Possibly due to too larger number with respect to field width\n",
      "Warning 1: Value 1490054400000 of field timestamp of feature 256 not successfully written. Possibly due to too larger number with respect to field width\n",
      "Warning 1: Value 1490054400000 of field timestamp of feature 257 not successfully written. Possibly due to too larger number with respect to field width\n",
      "Warning 1: Value 1490140800000 of field timestamp of feature 258 not successfully written. Possibly due to too larger number with respect to field width\n",
      "Warning 1: Value -2209161600000 of field timestamp of feature 259 not successfully written. Possibly due to too larger number with respect to field width\n",
      "Warning 1: Value 1490227200000.00024 of field timestamp of feature 260 not successfully written. Possibly due to too larger number with respect to field width\n",
      "Warning 1: Value -2209161600000 of field timestamp of feature 261 not successfully written. Possibly due to too larger number with respect to field width\n",
      "Warning 1: Value -2209161600000 of field timestamp of feature 262 not successfully written. Possibly due to too larger number with respect to field width\n",
      "Warning 1: Value 1490227200000.00024 of field timestamp of feature 263 not successfully written. Possibly due to too larger number with respect to field width\n",
      "Warning 1: Value 1555459200000 of field timestamp of feature 264 not successfully written. Possibly due to too larger number with respect to field width\n",
      "Warning 1: Value -2209161600000 of field timestamp of feature 265 not successfully written. Possibly due to too larger number with respect to field width\n",
      "Warning 1: Value 1490054400000 of field timestamp of feature 266 not successfully written. Possibly due to too larger number with respect to field width\n",
      "Warning 1: Value -2209161600000 of field timestamp of feature 267 not successfully written. Possibly due to too larger number with respect to field width\n",
      "Warning 1: Value -2209161600000 of field timestamp of feature 268 not successfully written. Possibly due to too larger number with respect to field width\n",
      "Warning 1: Value 1505347200000 of field timestamp of feature 269 not successfully written. Possibly due to too larger number with respect to field width\n",
      "Warning 1: Value -2209161600000 of field timestamp of feature 270 not successfully written. Possibly due to too larger number with respect to field width\n",
      "Warning 1: Value -2209161600000 of field timestamp of feature 271 not successfully written. Possibly due to too larger number with respect to field width\n",
      "Warning 1: Value -2209161600000 of field timestamp of feature 272 not successfully written. Possibly due to too larger number with respect to field width\n",
      "Warning 1: Value 1569888000000 of field timestamp of feature 273 not successfully written. Possibly due to too larger number with respect to field width\n",
      "Warning 1: Value 1490140800000 of field timestamp of feature 274 not successfully written. Possibly due to too larger number with respect to field width\n",
      "Warning 1: Value 1570752000000 of field timestamp of feature 275 not successfully written. Possibly due to too larger number with respect to field width\n",
      "Warning 1: Value -2209161600000 of field timestamp of feature 276 not successfully written. Possibly due to too larger number with respect to field width\n",
      "Warning 1: Value -2209161600000 of field timestamp of feature 277 not successfully written. Possibly due to too larger number with respect to field width\n",
      "Warning 1: Value 1493856000000 of field timestamp of feature 278 not successfully written. Possibly due to too larger number with respect to field width\n",
      "Warning 1: Value -2209161600000 of field timestamp of feature 279 not successfully written. Possibly due to too larger number with respect to field width\n",
      "Warning 1: Value -2209161600000 of field timestamp of feature 280 not successfully written. Possibly due to too larger number with respect to field width\n",
      "Warning 1: Value 1490659200000 of field timestamp of feature 281 not successfully written. Possibly due to too larger number with respect to field width\n",
      "Warning 1: Value 1576627200000.00024 of field timestamp of feature 282 not successfully written. Possibly due to too larger number with respect to field width\n",
      "Warning 1: Value 1490054400000 of field timestamp of feature 283 not successfully written. Possibly due to too larger number with respect to field width\n",
      "Warning 1: Value 1490659200000 of field timestamp of feature 284 not successfully written. Possibly due to too larger number with respect to field width\n",
      "Warning 1: Value 1556236800000 of field timestamp of feature 285 not successfully written. Possibly due to too larger number with respect to field width\n",
      "Warning 1: Value 1556236800000 of field timestamp of feature 286 not successfully written. Possibly due to too larger number with respect to field width\n",
      "Warning 1: Value 1557446400000 of field timestamp of feature 287 not successfully written. Possibly due to too larger number with respect to field width\n",
      "Warning 1: Value 1557705600000 of field timestamp of feature 288 not successfully written. Possibly due to too larger number with respect to field width\n",
      "Warning 1: Value 1501804800000.00024 of field timestamp of feature 289 not successfully written. Possibly due to too larger number with respect to field width\n",
      "Warning 1: Value 1490659200000 of field timestamp of feature 290 not successfully written. Possibly due to too larger number with respect to field width\n",
      "Warning 1: Value 1490659200000 of field timestamp of feature 291 not successfully written. Possibly due to too larger number with respect to field width\n",
      "Warning 1: Value 1490659200000 of field timestamp of feature 292 not successfully written. Possibly due to too larger number with respect to field width\n",
      "Warning 1: Value 1490659200000 of field timestamp of feature 293 not successfully written. Possibly due to too larger number with respect to field width\n",
      "Warning 1: Value -2209161600000 of field timestamp of feature 294 not successfully written. Possibly due to too larger number with respect to field width\n",
      "Warning 1: Value -2209161600000 of field timestamp of feature 295 not successfully written. Possibly due to too larger number with respect to field width\n",
      "Warning 1: Value -2209161600000 of field timestamp of feature 296 not successfully written. Possibly due to too larger number with respect to field width\n",
      "Warning 1: Value -2209161600000 of field timestamp of feature 297 not successfully written. Possibly due to too larger number with respect to field width\n",
      "Warning 1: Value 1556236800000 of field timestamp of feature 298 not successfully written. Possibly due to too larger number with respect to field width\n",
      "Warning 1: Value -2209161600000 of field timestamp of feature 299 not successfully written. Possibly due to too larger number with respect to field width\n",
      "Warning 1: Value -2209161600000 of field timestamp of feature 300 not successfully written. Possibly due to too larger number with respect to field width\n",
      "Warning 1: Value 1569801600000 of field timestamp of feature 301 not successfully written. Possibly due to too larger number with respect to field width\n",
      "Warning 1: Value 1590748088000 of field timestamp of feature 302 not successfully written. Possibly due to too larger number with respect to field width\n",
      "Warning 1: Value 1556236800000 of field timestamp of feature 303 not successfully written. Possibly due to too larger number with respect to field width\n",
      "Warning 1: Value 1556236800000 of field timestamp of feature 304 not successfully written. Possibly due to too larger number with respect to field width\n",
      "Warning 1: Value -2209161600000 of field timestamp of feature 305 not successfully written. Possibly due to too larger number with respect to field width\n",
      "Warning 1: Value -2209161600000 of field timestamp of feature 306 not successfully written. Possibly due to too larger number with respect to field width\n",
      "Warning 1: Value -2209161600000 of field timestamp of feature 307 not successfully written. Possibly due to too larger number with respect to field width\n",
      "Warning 1: Value -2209161600000 of field timestamp of feature 308 not successfully written. Possibly due to too larger number with respect to field width\n",
      "Warning 1: Value -2209161600000 of field timestamp of feature 309 not successfully written. Possibly due to too larger number with respect to field width\n",
      "Warning 1: Value 1496102400000 of field timestamp of feature 310 not successfully written. Possibly due to too larger number with respect to field width\n",
      "Warning 1: Value -2209161600000 of field timestamp of feature 311 not successfully written. Possibly due to too larger number with respect to field width\n",
      "Warning 1: Value 1490054400000 of field timestamp of feature 312 not successfully written. Possibly due to too larger number with respect to field width\n",
      "Warning 1: Value 1490227200000.00024 of field timestamp of feature 313 not successfully written. Possibly due to too larger number with respect to field width\n",
      "Warning 1: Value -2209161600000 of field timestamp of feature 314 not successfully written. Possibly due to too larger number with respect to field width\n",
      "Warning 1: Value -2209161600000 of field timestamp of feature 315 not successfully written. Possibly due to too larger number with respect to field width\n",
      "Warning 1: Value -2209161600000 of field timestamp of feature 316 not successfully written. Possibly due to too larger number with respect to field width\n",
      "Warning 1: Value -2209161600000 of field timestamp of feature 317 not successfully written. Possibly due to too larger number with respect to field width\n",
      "Warning 1: Value -2209161600000 of field timestamp of feature 318 not successfully written. Possibly due to too larger number with respect to field width\n",
      "Warning 1: Value 1501804800000.00024 of field timestamp of feature 319 not successfully written. Possibly due to too larger number with respect to field width\n",
      "Warning 1: Value -2209161600000 of field timestamp of feature 320 not successfully written. Possibly due to too larger number with respect to field width\n",
      "Warning 1: Value 1490054400000 of field timestamp of feature 321 not successfully written. Possibly due to too larger number with respect to field width\n",
      "Warning 1: Value -2209161600000 of field timestamp of feature 322 not successfully written. Possibly due to too larger number with respect to field width\n",
      "Warning 1: Value 1490054400000 of field timestamp of feature 323 not successfully written. Possibly due to too larger number with respect to field width\n",
      "Warning 1: Value -2209161600000 of field timestamp of feature 324 not successfully written. Possibly due to too larger number with respect to field width\n",
      "Warning 1: Value 1490054400000 of field timestamp of feature 325 not successfully written. Possibly due to too larger number with respect to field width\n",
      "Warning 1: Value 1496707200000 of field timestamp of feature 326 not successfully written. Possibly due to too larger number with respect to field width\n",
      "Warning 1: Value 1490227200000.00024 of field timestamp of feature 327 not successfully written. Possibly due to too larger number with respect to field width\n",
      "Warning 1: Value -2209161600000 of field timestamp of feature 328 not successfully written. Possibly due to too larger number with respect to field width\n",
      "Warning 1: Value 1490054400000 of field timestamp of feature 329 not successfully written. Possibly due to too larger number with respect to field width\n",
      "Warning 1: Value 1578614400000 of field timestamp of feature 330 not successfully written. Possibly due to too larger number with respect to field width\n",
      "Warning 1: Value 1496707200000 of field timestamp of feature 331 not successfully written. Possibly due to too larger number with respect to field width\n",
      "Warning 1: Value -2209161600000 of field timestamp of feature 332 not successfully written. Possibly due to too larger number with respect to field width\n",
      "Warning 1: Value -2209161600000 of field timestamp of feature 333 not successfully written. Possibly due to too larger number with respect to field width\n",
      "Warning 1: Value -2209161600000 of field timestamp of feature 334 not successfully written. Possibly due to too larger number with respect to field width\n",
      "Warning 1: Value 1503014400000 of field timestamp of feature 335 not successfully written. Possibly due to too larger number with respect to field width\n",
      "Warning 1: Value 1493942400000 of field timestamp of feature 336 not successfully written. Possibly due to too larger number with respect to field width\n",
      "Warning 1: Value 1590748863000 of field timestamp of feature 337 not successfully written. Possibly due to too larger number with respect to field width\n",
      "Warning 1: Value 1555459200000 of field timestamp of feature 338 not successfully written. Possibly due to too larger number with respect to field width\n",
      "Warning 1: Value 1490227200000.00024 of field timestamp of feature 339 not successfully written. Possibly due to too larger number with respect to field width\n",
      "Warning 1: Value -2209161600000 of field timestamp of feature 340 not successfully written. Possibly due to too larger number with respect to field width\n",
      "Warning 1: Value -2209161600000 of field timestamp of feature 341 not successfully written. Possibly due to too larger number with respect to field width\n",
      "Warning 1: Value 1491868800000 of field timestamp of feature 342 not successfully written. Possibly due to too larger number with respect to field width\n",
      "Warning 1: Value 1490140800000 of field timestamp of feature 343 not successfully written. Possibly due to too larger number with respect to field width\n",
      "Warning 1: Value -2209161600000 of field timestamp of feature 344 not successfully written. Possibly due to too larger number with respect to field width\n",
      "Warning 1: Value 1555459200000 of field timestamp of feature 345 not successfully written. Possibly due to too larger number with respect to field width\n",
      "Warning 1: Value 1490659200000 of field timestamp of feature 346 not successfully written. Possibly due to too larger number with respect to field width\n"
     ]
    },
    {
     "name": "stderr",
     "output_type": "stream",
     "text": [
      "Warning 1: Value 1496707200000 of field timestamp of feature 347 not successfully written. Possibly due to too larger number with respect to field width\n",
      "Warning 1: Value 1560988799999.99976 of field timestamp of feature 348 not successfully written. Possibly due to too larger number with respect to field width\n",
      "Warning 1: Value 1496880000000 of field timestamp of feature 349 not successfully written. Possibly due to too larger number with respect to field width\n",
      "Warning 1: Value 1555459200000 of field timestamp of feature 350 not successfully written. Possibly due to too larger number with respect to field width\n",
      "Warning 1: Value -2209161600000 of field timestamp of feature 351 not successfully written. Possibly due to too larger number with respect to field width\n",
      "Warning 1: Value 1490745600000 of field timestamp of feature 352 not successfully written. Possibly due to too larger number with respect to field width\n",
      "Warning 1: Value -2209161600000 of field timestamp of feature 353 not successfully written. Possibly due to too larger number with respect to field width\n",
      "Warning 1: Value 1490140800000 of field timestamp of feature 354 not successfully written. Possibly due to too larger number with respect to field width\n",
      "Warning 1: Value 1490659200000 of field timestamp of feature 355 not successfully written. Possibly due to too larger number with respect to field width\n",
      "Warning 1: Value -2209161600000 of field timestamp of feature 356 not successfully written. Possibly due to too larger number with respect to field width\n",
      "Warning 1: Value 1490054400000 of field timestamp of feature 357 not successfully written. Possibly due to too larger number with respect to field width\n",
      "Warning 1: Value 1490054400000 of field timestamp of feature 358 not successfully written. Possibly due to too larger number with respect to field width\n",
      "Warning 1: Value 1551312000000 of field timestamp of feature 359 not successfully written. Possibly due to too larger number with respect to field width\n",
      "Warning 1: Value 1490659200000 of field timestamp of feature 360 not successfully written. Possibly due to too larger number with respect to field width\n",
      "Warning 1: Value 1557273600000 of field timestamp of feature 361 not successfully written. Possibly due to too larger number with respect to field width\n",
      "Warning 1: Value 1490140800000 of field timestamp of feature 362 not successfully written. Possibly due to too larger number with respect to field width\n",
      "Warning 1: Value -2209161600000 of field timestamp of feature 363 not successfully written. Possibly due to too larger number with respect to field width\n",
      "Warning 1: Value -2209161600000 of field timestamp of feature 364 not successfully written. Possibly due to too larger number with respect to field width\n",
      "Warning 1: Value 1490140800000 of field timestamp of feature 365 not successfully written. Possibly due to too larger number with respect to field width\n",
      "Warning 1: Value 1490140800000 of field timestamp of feature 366 not successfully written. Possibly due to too larger number with respect to field width\n",
      "Warning 1: Value -2209161600000 of field timestamp of feature 367 not successfully written. Possibly due to too larger number with respect to field width\n",
      "Warning 1: Value 1490054400000 of field timestamp of feature 368 not successfully written. Possibly due to too larger number with respect to field width\n",
      "Warning 1: Value 1490054400000 of field timestamp of feature 369 not successfully written. Possibly due to too larger number with respect to field width\n",
      "Warning 1: Value 1492646400000 of field timestamp of feature 370 not successfully written. Possibly due to too larger number with respect to field width\n",
      "Warning 1: Value 1569888000000 of field timestamp of feature 371 not successfully written. Possibly due to too larger number with respect to field width\n",
      "Warning 1: Value 1501804800000.00024 of field timestamp of feature 372 not successfully written. Possibly due to too larger number with respect to field width\n",
      "Warning 1: Value 1490054400000 of field timestamp of feature 373 not successfully written. Possibly due to too larger number with respect to field width\n",
      "Warning 1: Value 1490054400000 of field timestamp of feature 374 not successfully written. Possibly due to too larger number with respect to field width\n",
      "Warning 1: Value -2209161600000 of field timestamp of feature 375 not successfully written. Possibly due to too larger number with respect to field width\n",
      "Warning 1: Value -2209161600000 of field timestamp of feature 376 not successfully written. Possibly due to too larger number with respect to field width\n",
      "Warning 1: Value -2209161600000 of field timestamp of feature 377 not successfully written. Possibly due to too larger number with respect to field width\n",
      "Warning 1: Value 1494979200000 of field timestamp of feature 378 not successfully written. Possibly due to too larger number with respect to field width\n",
      "Warning 1: Value -2209161600000 of field timestamp of feature 379 not successfully written. Possibly due to too larger number with respect to field width\n",
      "Warning 1: Value -2209161600000 of field timestamp of feature 380 not successfully written. Possibly due to too larger number with respect to field width\n",
      "Warning 1: Value -2209161600000 of field timestamp of feature 381 not successfully written. Possibly due to too larger number with respect to field width\n",
      "Warning 1: Value -2209161600000 of field timestamp of feature 382 not successfully written. Possibly due to too larger number with respect to field width\n",
      "Warning 1: Value 1490745600000 of field timestamp of feature 383 not successfully written. Possibly due to too larger number with respect to field width\n",
      "Warning 1: Value -2209161600000 of field timestamp of feature 384 not successfully written. Possibly due to too larger number with respect to field width\n",
      "Warning 1: Value -2209161600000 of field timestamp of feature 385 not successfully written. Possibly due to too larger number with respect to field width\n",
      "Warning 1: Value -2209161600000 of field timestamp of feature 386 not successfully written. Possibly due to too larger number with respect to field width\n",
      "Warning 1: Value 1494979200000 of field timestamp of feature 387 not successfully written. Possibly due to too larger number with respect to field width\n",
      "Warning 1: Value 1494979200000 of field timestamp of feature 388 not successfully written. Possibly due to too larger number with respect to field width\n",
      "Warning 1: Value -2209161600000 of field timestamp of feature 389 not successfully written. Possibly due to too larger number with respect to field width\n",
      "Warning 1: Value 1494979200000 of field timestamp of feature 390 not successfully written. Possibly due to too larger number with respect to field width\n",
      "Warning 1: Value -2209161600000 of field timestamp of feature 391 not successfully written. Possibly due to too larger number with respect to field width\n",
      "Warning 1: Value -2209161600000 of field timestamp of feature 392 not successfully written. Possibly due to too larger number with respect to field width\n",
      "Warning 1: Value 1490400000000 of field timestamp of feature 393 not successfully written. Possibly due to too larger number with respect to field width\n",
      "Warning 1: Value -2209161600000 of field timestamp of feature 394 not successfully written. Possibly due to too larger number with respect to field width\n",
      "Warning 1: Value 1570752000000 of field timestamp of feature 395 not successfully written. Possibly due to too larger number with respect to field width\n",
      "Warning 1: Value -2209161600000 of field timestamp of feature 396 not successfully written. Possibly due to too larger number with respect to field width\n",
      "Warning 1: Value 1490227200000.00024 of field timestamp of feature 397 not successfully written. Possibly due to too larger number with respect to field width\n",
      "Warning 1: Value -2209161600000 of field timestamp of feature 398 not successfully written. Possibly due to too larger number with respect to field width\n",
      "Warning 1: Value 1556236800000 of field timestamp of feature 399 not successfully written. Possibly due to too larger number with respect to field width\n",
      "Warning 1: Value 1609247573000 of field timestamp of feature 400 not successfully written. Possibly due to too larger number with respect to field width\n",
      "Warning 1: Value 1490227200000.00024 of field timestamp of feature 401 not successfully written. Possibly due to too larger number with respect to field width\n",
      "Warning 1: Value 1490227200000.00024 of field timestamp of feature 402 not successfully written. Possibly due to too larger number with respect to field width\n",
      "Warning 1: Value 1609247574000 of field timestamp of feature 403 not successfully written. Possibly due to too larger number with respect to field width\n"
     ]
    },
    {
     "name": "stderr",
     "output_type": "stream",
     "text": [
      "Warning 1: Value 1490140800000 of field timestamp of feature 404 not successfully written. Possibly due to too larger number with respect to field width\n",
      "Warning 1: Value -2209161600000 of field timestamp of feature 405 not successfully written. Possibly due to too larger number with respect to field width\n",
      "Warning 1: Value -2209161600000 of field timestamp of feature 406 not successfully written. Possibly due to too larger number with respect to field width\n",
      "Warning 1: Value 1492387200000 of field timestamp of feature 407 not successfully written. Possibly due to too larger number with respect to field width\n",
      "Warning 1: Value -2209161600000 of field timestamp of feature 408 not successfully written. Possibly due to too larger number with respect to field width\n",
      "Warning 1: Value 1555459200000 of field timestamp of feature 409 not successfully written. Possibly due to too larger number with respect to field width\n",
      "Warning 1: Value 1577404800000 of field timestamp of feature 410 not successfully written. Possibly due to too larger number with respect to field width\n",
      "Warning 1: Value -2209161600000 of field timestamp of feature 411 not successfully written. Possibly due to too larger number with respect to field width\n",
      "Warning 1: Value -2209161600000 of field timestamp of feature 412 not successfully written. Possibly due to too larger number with respect to field width\n",
      "Warning 1: Value 1501632000000 of field timestamp of feature 413 not successfully written. Possibly due to too larger number with respect to field width\n",
      "Warning 1: Value -2209161600000 of field timestamp of feature 414 not successfully written. Possibly due to too larger number with respect to field width\n",
      "Warning 1: Value 1557360000000 of field timestamp of feature 415 not successfully written. Possibly due to too larger number with respect to field width\n",
      "Warning 1: Value -2209161600000 of field timestamp of feature 416 not successfully written. Possibly due to too larger number with respect to field width\n"
     ]
    },
    {
     "data": {
      "text/plain": [
       "{'OUTPUT_LINES': '/home/warr/Downloads/servicearea/Data/Service_Area_1m.shp'}"
      ]
     },
     "execution_count": 7,
     "metadata": {},
     "output_type": "execute_result"
    }
   ],
   "source": [
    "processing.run(\"qgis:serviceareafromlayer\", params)"
   ]
  },
  {
   "cell_type": "code",
   "execution_count": 8,
   "metadata": {},
   "outputs": [],
   "source": [
    "params2 = { 'DEFAULT_DIRECTION' : 2, 'DEFAULT_SPEED' : 50, 'DIRECTION_FIELD' : '', 'INCLUDE_BOUNDS' : False,\n",
    "           'INPUT' : '/home/warr/Downloads/servicearea/Link Road.shp',\n",
    "           'OUTPUT_LINES' : '/home/warr/Downloads/servicearea/Data/Service_Area_100m_point.shp',\n",
    "           'SPEED_FIELD' : '', 'START_POINT' : '85.793400,20.297354 [EPSG:4326]', 'STRATEGY' : 0,\n",
    "           'TOLERANCE' : 0, 'TRAVEL_COST2' : 1000, 'VALUE_BACKWARD' : '', 'VALUE_BOTH' : '', 'VALUE_FORWARD' : '' }"
   ]
  },
  {
   "cell_type": "code",
   "execution_count": 9,
   "metadata": {},
   "outputs": [
    {
     "name": "stderr",
     "output_type": "stream",
     "text": [
      "Warning 1: Field type of width 255 truncated to 254.\n",
      "Warning 1: Field start of width 255 truncated to 254.\n"
     ]
    },
    {
     "data": {
      "text/plain": [
       "{'OUTPUT_LINES': '/home/warr/Downloads/servicearea/Data/Service_Area_100m_point.shp'}"
      ]
     },
     "execution_count": 9,
     "metadata": {},
     "output_type": "execute_result"
    }
   ],
   "source": [
    "processing.run(\"qgis:serviceareafrompoint\", params2)"
   ]
  },
  {
   "cell_type": "code",
   "execution_count": null,
   "metadata": {},
   "outputs": [],
   "source": []
  },
  {
   "cell_type": "code",
   "execution_count": null,
   "metadata": {},
   "outputs": [],
   "source": [
    "params3 = {'FIELD' : 'Name', \n",
    "           'INPUT': '/media/manjeet/Data2/gist_tools/distancefromPoint/Data/Metro_Stations_Delhi.geojson', \n",
    "           'HUBS' : '/media/manjeet/Data2/gist_tools/distancefromPoint/Data/Landfill_Sites_Delhi.geojson',\n",
    "           'OUTPUT' : '/media/manjeet/Data2/gist_tools/distancefromPoint/output4.geojson',\n",
    "           'UNIT' : 0 }"
   ]
  },
  {
   "cell_type": "code",
   "execution_count": 10,
   "metadata": {},
   "outputs": [
    {
     "data": {
      "text/plain": [
       "{0: 'meter', 1: 'Feet', 2: 'Miles', 3: 'Kms', 4: 'layerUnit'}"
      ]
     },
     "execution_count": 10,
     "metadata": {},
     "output_type": "execute_result"
    }
   ],
   "source": [
    "{0:'meter',1:'Feet',2:'Miles',3:'Kms',4:'layerUnit'}"
   ]
  },
  {
   "cell_type": "code",
   "execution_count": null,
   "metadata": {},
   "outputs": [],
   "source": [
    "processing.run(\"qgis:distancetonearesthublinetohub\", params3)"
   ]
  },
  {
   "cell_type": "code",
   "execution_count": null,
   "metadata": {},
   "outputs": [],
   "source": [
    "\n",
    "processing.run(\"qgis:distancetonearesthubpoints\", params3)"
   ]
  },
  {
   "cell_type": "code",
   "execution_count": null,
   "metadata": {},
   "outputs": [],
   "source": []
  },
  {
   "cell_type": "code",
   "execution_count": 11,
   "metadata": {},
   "outputs": [
    {
     "ename": "NameError",
     "evalue": "name 'vectorLayer' is not defined",
     "output_type": "error",
     "traceback": [
      "\u001b[0;31m---------------------------------------------------------------------------\u001b[0m",
      "\u001b[0;31mNameError\u001b[0m                                 Traceback (most recent call last)",
      "\u001b[0;32m/tmp/ipykernel_25316/2076163234.py\u001b[0m in \u001b[0;36m<module>\u001b[0;34m\u001b[0m\n\u001b[0;32m----> 1\u001b[0;31m \u001b[0mvectorLayer\u001b[0m\u001b[0;34m.\u001b[0m\u001b[0mchildren\u001b[0m\u001b[0;34m(\u001b[0m\u001b[0;34m)\u001b[0m\u001b[0;34m\u001b[0m\u001b[0;34m\u001b[0m\u001b[0m\n\u001b[0m",
      "\u001b[0;31mNameError\u001b[0m: name 'vectorLayer' is not defined"
     ]
    }
   ],
   "source": [
    "vectorLayer.children()"
   ]
  },
  {
   "cell_type": "code",
   "execution_count": 12,
   "metadata": {},
   "outputs": [
    {
     "ename": "NameError",
     "evalue": "name 'route' is not defined",
     "output_type": "error",
     "traceback": [
      "\u001b[0;31m---------------------------------------------------------------------------\u001b[0m",
      "\u001b[0;31mNameError\u001b[0m                                 Traceback (most recent call last)",
      "\u001b[0;32m/tmp/ipykernel_25316/2044669701.py\u001b[0m in \u001b[0;36m<module>\u001b[0;34m\u001b[0m\n\u001b[0;32m----> 1\u001b[0;31m \u001b[0mroute\u001b[0m\u001b[0;34m\u001b[0m\u001b[0;34m\u001b[0m\u001b[0m\n\u001b[0m",
      "\u001b[0;31mNameError\u001b[0m: name 'route' is not defined"
     ]
    }
   ],
   "source": [
    "route"
   ]
  },
  {
   "cell_type": "code",
   "execution_count": null,
   "metadata": {},
   "outputs": [],
   "source": [
    "if not vectorLayer.isValid():\n",
    "    print (\"Layer failed to load!\")"
   ]
  },
  {
   "cell_type": "code",
   "execution_count": 13,
   "metadata": {},
   "outputs": [
    {
     "data": {
      "text/plain": [
       "<QgsPointXY: POINT(85.81929999999999836 20.30017399999999839)>"
      ]
     },
     "execution_count": 13,
     "metadata": {},
     "output_type": "execute_result"
    }
   ],
   "source": [
    "QgsPointXY(85.819300,20.300174)"
   ]
  },
  {
   "cell_type": "code",
   "execution_count": 14,
   "metadata": {},
   "outputs": [
    {
     "ename": "NameError",
     "evalue": "name 'vectorLayer' is not defined",
     "output_type": "error",
     "traceback": [
      "\u001b[0;31m---------------------------------------------------------------------------\u001b[0m",
      "\u001b[0;31mNameError\u001b[0m                                 Traceback (most recent call last)",
      "\u001b[0;32m/tmp/ipykernel_25316/4092444180.py\u001b[0m in \u001b[0;36m<module>\u001b[0;34m\u001b[0m\n\u001b[0;32m----> 1\u001b[0;31m \u001b[0mdirector\u001b[0m \u001b[0;34m=\u001b[0m \u001b[0mQgsVectorLayerDirector\u001b[0m\u001b[0;34m(\u001b[0m\u001b[0mvectorLayer\u001b[0m\u001b[0;34m,\u001b[0m \u001b[0;34m-\u001b[0m\u001b[0;36m1\u001b[0m\u001b[0;34m,\u001b[0m \u001b[0;34m''\u001b[0m\u001b[0;34m,\u001b[0m \u001b[0;34m''\u001b[0m\u001b[0;34m,\u001b[0m \u001b[0;34m''\u001b[0m\u001b[0;34m,\u001b[0m \u001b[0mQgsVectorLayerDirector\u001b[0m\u001b[0;34m.\u001b[0m\u001b[0mDirectionBoth\u001b[0m\u001b[0;34m)\u001b[0m\u001b[0;34m\u001b[0m\u001b[0;34m\u001b[0m\u001b[0m\n\u001b[0m\u001b[1;32m      2\u001b[0m \u001b[0mstrategy\u001b[0m \u001b[0;34m=\u001b[0m \u001b[0mQgsNetworkDistanceStrategy\u001b[0m\u001b[0;34m(\u001b[0m\u001b[0;34m)\u001b[0m\u001b[0;34m\u001b[0m\u001b[0;34m\u001b[0m\u001b[0m\n\u001b[1;32m      3\u001b[0m \u001b[0mdirector\u001b[0m\u001b[0;34m.\u001b[0m\u001b[0maddStrategy\u001b[0m\u001b[0;34m(\u001b[0m\u001b[0mstrategy\u001b[0m\u001b[0;34m)\u001b[0m\u001b[0;34m\u001b[0m\u001b[0;34m\u001b[0m\u001b[0m\n\u001b[1;32m      4\u001b[0m \u001b[0mbuilder\u001b[0m \u001b[0;34m=\u001b[0m \u001b[0mQgsGraphBuilder\u001b[0m\u001b[0;34m(\u001b[0m\u001b[0mvectorLayer\u001b[0m\u001b[0;34m.\u001b[0m\u001b[0mcrs\u001b[0m\u001b[0;34m(\u001b[0m\u001b[0;34m)\u001b[0m\u001b[0;34m)\u001b[0m\u001b[0;34m\u001b[0m\u001b[0;34m\u001b[0m\u001b[0m\n\u001b[1;32m      5\u001b[0m \u001b[0;34m\u001b[0m\u001b[0m\n",
      "\u001b[0;31mNameError\u001b[0m: name 'vectorLayer' is not defined"
     ]
    }
   ],
   "source": [
    "director = QgsVectorLayerDirector(vectorLayer, -1, '', '', '', QgsVectorLayerDirector.DirectionBoth)\n",
    "strategy = QgsNetworkDistanceStrategy()\n",
    "director.addStrategy(strategy)\n",
    "builder = QgsGraphBuilder(vectorLayer.crs())\n",
    "\n",
    "\n",
    "pStart = QgsPointXY(85.819300,20.300174)\n",
    "delta = iface.mapCanvas().getCoordinateTransform().mapUnitsPerPixel() * 1\n",
    "\n",
    "rb = QgsRubberBand(iface.mapCanvas(), True)\n",
    "rb.setColor(Qt.green)\n",
    "rb.addPoint(QgsPointXY(pStart.x() - delta, pStart.y() - delta))\n",
    "rb.addPoint(QgsPointXY(pStart.x() + delta, pStart.y() - delta))\n",
    "rb.addPoint(QgsPointXY(pStart.x() + delta, pStart.y() + delta))\n",
    "rb.addPoint(QgsPointXY(pStart.x() - delta, pStart.y() + delta))\n",
    "\n",
    "tiedPoints = director.makeGraph(builder, [pStart])\n",
    "graph = builder.graph()\n",
    "tStart = tiedPoints[0]\n",
    "\n",
    "idStart = graph.findVertex(tStart)\n",
    "\n",
    "(tree, cost) = QgsGraphAnalyzer.dijkstra(graph, idStart, 0)\n",
    "\n",
    "upperBound = []\n",
    "r = 1500.0\n",
    "i = 0\n",
    "tree.reverse()\n",
    "\n",
    "while i < len(cost):\n",
    "    if cost[i] > r and tree[i] != -1:\n",
    "        outVertexId = graph.edge(tree [i]).toVertex()\n",
    "        if cost[outVertexId] < r:\n",
    "            upperBound.append(i)\n",
    "    i = i + 1"
   ]
  },
  {
   "cell_type": "code",
   "execution_count": 15,
   "metadata": {},
   "outputs": [
    {
     "ename": "NameError",
     "evalue": "name 'upperBound' is not defined",
     "output_type": "error",
     "traceback": [
      "\u001b[0;31m---------------------------------------------------------------------------\u001b[0m",
      "\u001b[0;31mNameError\u001b[0m                                 Traceback (most recent call last)",
      "\u001b[0;32m/tmp/ipykernel_25316/630712767.py\u001b[0m in \u001b[0;36m<module>\u001b[0;34m\u001b[0m\n\u001b[0;32m----> 1\u001b[0;31m \u001b[0;32mfor\u001b[0m \u001b[0mi\u001b[0m \u001b[0;32min\u001b[0m \u001b[0mupperBound\u001b[0m\u001b[0;34m:\u001b[0m\u001b[0;34m\u001b[0m\u001b[0;34m\u001b[0m\u001b[0m\n\u001b[0m\u001b[1;32m      2\u001b[0m     \u001b[0mcenterPoint\u001b[0m \u001b[0;34m=\u001b[0m \u001b[0mgraph\u001b[0m\u001b[0;34m.\u001b[0m\u001b[0mvertex\u001b[0m\u001b[0;34m(\u001b[0m\u001b[0mi\u001b[0m\u001b[0;34m)\u001b[0m\u001b[0;34m.\u001b[0m\u001b[0mpoint\u001b[0m\u001b[0;34m(\u001b[0m\u001b[0;34m)\u001b[0m\u001b[0;34m\u001b[0m\u001b[0;34m\u001b[0m\u001b[0m\n\u001b[1;32m      3\u001b[0m     \u001b[0mrb\u001b[0m \u001b[0;34m=\u001b[0m \u001b[0mQgsRubberBand\u001b[0m\u001b[0;34m(\u001b[0m\u001b[0miface\u001b[0m\u001b[0;34m.\u001b[0m\u001b[0mmapCanvas\u001b[0m\u001b[0;34m(\u001b[0m\u001b[0;34m)\u001b[0m\u001b[0;34m,\u001b[0m \u001b[0;32mTrue\u001b[0m\u001b[0;34m)\u001b[0m\u001b[0;34m\u001b[0m\u001b[0;34m\u001b[0m\u001b[0m\n\u001b[1;32m      4\u001b[0m     \u001b[0mrb\u001b[0m\u001b[0;34m.\u001b[0m\u001b[0msetColor\u001b[0m\u001b[0;34m(\u001b[0m\u001b[0mQt\u001b[0m\u001b[0;34m.\u001b[0m\u001b[0mred\u001b[0m\u001b[0;34m)\u001b[0m\u001b[0;34m\u001b[0m\u001b[0;34m\u001b[0m\u001b[0m\n\u001b[1;32m      5\u001b[0m     \u001b[0mrb\u001b[0m\u001b[0;34m.\u001b[0m\u001b[0maddPoint\u001b[0m\u001b[0;34m(\u001b[0m\u001b[0mQgsPointXY\u001b[0m\u001b[0;34m(\u001b[0m\u001b[0mcenterPoint\u001b[0m\u001b[0;34m.\u001b[0m\u001b[0mx\u001b[0m\u001b[0;34m(\u001b[0m\u001b[0;34m)\u001b[0m \u001b[0;34m-\u001b[0m \u001b[0mdelta\u001b[0m\u001b[0;34m,\u001b[0m \u001b[0mcenterPoint\u001b[0m\u001b[0;34m.\u001b[0m\u001b[0my\u001b[0m\u001b[0;34m(\u001b[0m\u001b[0;34m)\u001b[0m \u001b[0;34m-\u001b[0m \u001b[0mdelta\u001b[0m\u001b[0;34m)\u001b[0m\u001b[0;34m)\u001b[0m\u001b[0;34m\u001b[0m\u001b[0;34m\u001b[0m\u001b[0m\n",
      "\u001b[0;31mNameError\u001b[0m: name 'upperBound' is not defined"
     ]
    }
   ],
   "source": [
    "for i in upperBound:\n",
    "    centerPoint = graph.vertex(i).point()\n",
    "    rb = QgsRubberBand(iface.mapCanvas(), True)\n",
    "    rb.setColor(Qt.red)\n",
    "    rb.addPoint(QgsPointXY(centerPoint.x() - delta, centerPoint.y() - delta))\n",
    "    rb.addPoint(QgsPointXY(centerPoint.x() + delta, centerPoint.y() - delta))\n",
    "    rb.addPoint(QgsPointXY(centerPoint.x() + delta, centerPoint.y() + delta))\n",
    "    rb.addPoint(QgsPointXY(centerPoint.x() - delta, centerPoint.y() + delta))"
   ]
  },
  {
   "cell_type": "code",
   "execution_count": null,
   "metadata": {},
   "outputs": [],
   "source": []
  }
 ],
 "metadata": {
  "kernelspec": {
   "display_name": "Python 3 (ipykernel)",
   "language": "python",
   "name": "python3"
  },
  "language_info": {
   "codemirror_mode": {
    "name": "ipython",
    "version": 3
   },
   "file_extension": ".py",
   "mimetype": "text/x-python",
   "name": "python",
   "nbconvert_exporter": "python",
   "pygments_lexer": "ipython3",
   "version": "3.8.10"
  }
 },
 "nbformat": 4,
 "nbformat_minor": 4
}
